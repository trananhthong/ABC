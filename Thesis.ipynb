{
 "cells": [
  {
   "cell_type": "code",
   "execution_count": 1,
   "metadata": {},
   "outputs": [],
   "source": [
    "import numpy as np\n",
    "from scipy.stats import norm, invgamma, wasserstein_distance\n",
    "from scipy.spatial.distance import euclidean, seuclidean, mahalanobis\n",
    "import matplotlib.pyplot as plt\n",
    "import time\n",
    "from scipy.interpolate import UnivariateSpline"
   ]
  },
  {
   "cell_type": "code",
   "execution_count": 2,
   "metadata": {},
   "outputs": [],
   "source": [
    "DEBUG = True"
   ]
  },
  {
   "cell_type": "code",
   "execution_count": 3,
   "metadata": {},
   "outputs": [],
   "source": [
    "# Normal likelihood\n",
    "M_0 = 0 # True mean\n",
    "S_SQ_0 = 1 # True variation\n",
    "N = 10000 # Sample size\n",
    "\n",
    "# Var ~ Scaled Inverse Chi square prior v,SSq_0"
   ]
  },
  {
   "cell_type": "code",
   "execution_count": 4,
   "metadata": {},
   "outputs": [
    {
     "name": "stdout",
     "output_type": "stream",
     "text": [
      "-0.003840034950977389\n",
      "1.0112642262424627\n"
     ]
    },
    {
     "data": {
      "text/plain": [
       "(array([3.79584538e-04, 4.55501446e-03, 3.46687212e-02, 1.43989068e-01,\n",
       "        3.19610181e-01, 3.83000799e-01, 2.56346092e-01, 1.00589903e-01,\n",
       "        1.88526987e-02, 3.28973267e-03]),\n",
       " array([-4.22293346, -3.43259568, -2.64225791, -1.85192013, -1.06158236,\n",
       "        -0.27124458,  0.5190932 ,  1.30943097,  2.09976875,  2.89010652,\n",
       "         3.6804443 ]),\n",
       " <a list of 1 Patch objects>)"
      ]
     },
     "execution_count": 4,
     "metadata": {},
     "output_type": "execute_result"
    },
    {
     "data": {
      "image/png": "[encoded data removed]",
      "text/plain": [
       "<Figure size 432x288 with 1 Axes>"
      ]
     },
     "metadata": {
      "needs_background": "light"
     },
     "output_type": "display_data"
    }
   ],
   "source": [
    "d = np.load('Code/data.npy', allow_pickle = True)\n",
    "print(np.mean(d))\n",
    "print(np.var(d))\n",
    "plt.hist(d, density=True, histtype='stepfilled')"
   ]
  },
  {
   "cell_type": "code",
   "execution_count": 20,
   "metadata": {},
   "outputs": [
    {
     "ename": "AttributeError",
     "evalue": "'AxesSubplot' object has no attribute 'show'",
     "output_type": "error",
     "traceback": [
      "\u001b[0;31m---------------------------------------------------------------------------\u001b[0m",
      "\u001b[0;31mAttributeError\u001b[0m                            Traceback (most recent call last)",
      "\u001b[0;32m<ipython-input-20-63501a356050>\u001b[0m in \u001b[0;36m<module>\u001b[0;34m\u001b[0m\n\u001b[1;32m      7\u001b[0m \u001b[0mposterior_var\u001b[0m \u001b[0;34m=\u001b[0m \u001b[0;34m[\u001b[0m\u001b[0mvar\u001b[0m \u001b[0;32mfor\u001b[0m \u001b[0mmean\u001b[0m\u001b[0;34m,\u001b[0m \u001b[0mvar\u001b[0m \u001b[0;32min\u001b[0m \u001b[0mposterior_sample\u001b[0m\u001b[0;34m]\u001b[0m\u001b[0;34m\u001b[0m\u001b[0;34m\u001b[0m\u001b[0m\n\u001b[1;32m      8\u001b[0m \u001b[0max\u001b[0m\u001b[0;34m.\u001b[0m\u001b[0mhist\u001b[0m\u001b[0;34m(\u001b[0m\u001b[0mposterior_var\u001b[0m\u001b[0;34m,\u001b[0m \u001b[0mdensity\u001b[0m\u001b[0;34m=\u001b[0m\u001b[0;32mTrue\u001b[0m\u001b[0;34m,\u001b[0m \u001b[0mhisttype\u001b[0m\u001b[0;34m=\u001b[0m\u001b[0;34m'stepfilled'\u001b[0m\u001b[0;34m,\u001b[0m \u001b[0mbins\u001b[0m \u001b[0;34m=\u001b[0m \u001b[0;36m40\u001b[0m\u001b[0;34m)\u001b[0m\u001b[0;34m\u001b[0m\u001b[0;34m\u001b[0m\u001b[0m\n\u001b[0;32m----> 9\u001b[0;31m \u001b[0max\u001b[0m\u001b[0;34m.\u001b[0m\u001b[0mshow\u001b[0m\u001b[0;34m\u001b[0m\u001b[0;34m\u001b[0m\u001b[0m\n\u001b[0m",
      "\u001b[0;31mAttributeError\u001b[0m: 'AxesSubplot' object has no attribute 'show'"
     ]
    },
    {
     "data": {
      "image/png": "[encoded data removed]",
      "text/plain": [
       "<Figure size 432x288 with 1 Axes>"
      ]
     },
     "metadata": {
      "needs_background": "light"
     },
     "output_type": "display_data"
    }
   ],
   "source": [
    "fig, ax = plt.subplots(1, 1)\n",
    "pdf = np.load('Code/true_posterior_var_pdf.npy', allow_pickle=True)\n",
    "x = [row[0] for row in pdf]\n",
    "y = [row[1] for row in pdf]\n",
    "ax.plot(x, y, label='invgamma pdf')\n",
    "posterior_sample = np.load('Code/true_posterior_sample.npy', allow_pickle = True)\n",
    "posterior_var = [var for mean, var in posterior_sample]\n",
    "ax.hist(posterior_var, density=True, histtype='stepfilled', bins = 40)\n",
    "ax.show"
   ]
  },
  {
   "cell_type": "code",
   "execution_count": 208,
   "metadata": {},
   "outputs": [
    {
     "name": "stdout",
     "output_type": "stream",
     "text": [
      "[[array([-0.06262584,  1.11933354])\n",
      "  array([ 0.73066718, -1.46918768,  0.49803632, ..., -0.46359277,\n",
      "       -0.06500837, -1.03567424])]\n",
      " [array([0.00993932, 1.01458887])\n",
      "  array([-1.75688191, -0.39680299,  0.06509377, ...,  0.3727814 ,\n",
      "       -0.66140899,  0.72075084])]\n",
      " [array([-0.014167  ,  0.97318958])\n",
      "  array([-0.27648115, -0.15411448,  1.01318306, ..., -0.15839817,\n",
      "        0.47477765, -0.59948463])]\n",
      " [array([-0.00582683,  0.97440117])\n",
      "  array([-0.99419704, -1.18972098, -0.70508078, ...,  1.65748234,\n",
      "        1.44045102,  1.53628235])]\n",
      " [array([-0.03912745,  1.08113856])\n",
      "  array([ 2.27790334, -0.03826102, -0.88143688, ...,  0.34455834,\n",
      "       -4.24874098, -0.55924672])]]\n",
      "[[-6.26258367e-02  1.11933354e+00 -1.24231554e-03  1.04897096e+00]\n",
      " [ 9.93931840e-03  1.01458887e+00 -1.35651706e-03  9.87510270e-01]\n",
      " [-1.41669964e-02  9.73189582e-01 -7.91326000e-05  9.50217137e-01]\n",
      " [-5.82682551e-03  9.74401168e-01 -1.83732033e-04  1.01076873e+00]\n",
      " [-3.91274495e-02  1.08113856e+00 -9.23650599e-04  1.09472350e+00]]\n",
      "[1.0192647400469736, 1.0135030420327098, 0.9893235427305893, 1.0195391771404803, 0.995861286814146]\n"
     ]
    }
   ],
   "source": [
    "sim = np.load('Code/simulations/simulations_1.npy', allow_pickle = True)\n",
    "print(sim[:5])\n",
    "para = np.load('Code/parameter_estimates/mean_variance_estimates.npy', allow_pickle = True)\n",
    "print(para[:5])\n",
    "var = [var for mean, var in np.load('Code/true_posterior_sample.npy', allow_pickle = True)]\n",
    "print(var[:5])"
   ]
  },
  {
   "cell_type": "code",
   "execution_count": 19,
   "metadata": {},
   "outputs": [
    {
     "ename": "AttributeError",
     "evalue": "'AxesSubplot' object has no attribute 'show'",
     "output_type": "error",
     "traceback": [
      "\u001b[0;31m---------------------------------------------------------------------------\u001b[0m",
      "\u001b[0;31mAttributeError\u001b[0m                            Traceback (most recent call last)",
      "\u001b[0;32m<ipython-input-19-92a6020f2873>\u001b[0m in \u001b[0;36m<module>\u001b[0;34m\u001b[0m\n\u001b[1;32m      7\u001b[0m \u001b[0mABC_var\u001b[0m \u001b[0;34m=\u001b[0m \u001b[0;34m[\u001b[0m\u001b[0mrow\u001b[0m\u001b[0;34m[\u001b[0m\u001b[0;36m1\u001b[0m\u001b[0;34m]\u001b[0m \u001b[0;32mfor\u001b[0m \u001b[0mrow\u001b[0m \u001b[0;32min\u001b[0m \u001b[0mp\u001b[0m\u001b[0;34m]\u001b[0m\u001b[0;34m\u001b[0m\u001b[0;34m\u001b[0m\u001b[0m\n\u001b[1;32m      8\u001b[0m \u001b[0max\u001b[0m\u001b[0;34m.\u001b[0m\u001b[0mhist\u001b[0m\u001b[0;34m(\u001b[0m\u001b[0mABC_var\u001b[0m\u001b[0;34m,\u001b[0m \u001b[0mdensity\u001b[0m\u001b[0;34m=\u001b[0m\u001b[0;32mTrue\u001b[0m\u001b[0;34m,\u001b[0m \u001b[0mhisttype\u001b[0m\u001b[0;34m=\u001b[0m\u001b[0;34m'stepfilled'\u001b[0m\u001b[0;34m,\u001b[0m \u001b[0mbins\u001b[0m \u001b[0;34m=\u001b[0m \u001b[0;36m40\u001b[0m\u001b[0;34m)\u001b[0m\u001b[0;34m\u001b[0m\u001b[0;34m\u001b[0m\u001b[0m\n\u001b[0;32m----> 9\u001b[0;31m \u001b[0max\u001b[0m\u001b[0;34m.\u001b[0m\u001b[0mshow\u001b[0m\u001b[0;34m(\u001b[0m\u001b[0;34m)\u001b[0m\u001b[0;34m\u001b[0m\u001b[0;34m\u001b[0m\u001b[0m\n\u001b[0m",
      "\u001b[0;31mAttributeError\u001b[0m: 'AxesSubplot' object has no attribute 'show'"
     ]
    },
    {
     "data": {
      "image/png": "[encoded data removed]",
      "text/plain": [
       "<Figure size 432x288 with 1 Axes>"
      ]
     },
     "metadata": {
      "needs_background": "light"
     },
     "output_type": "display_data"
    }
   ],
   "source": [
    "fig, ax = plt.subplots(1, 1)\n",
    "pdf = np.load('Code/true_posterior_var_pdf.npy', allow_pickle=True)\n",
    "x = [row[0] for row in pdf]\n",
    "y = [row[1] for row in pdf]\n",
    "ax.plot(x, y, label='invgamma pdf')\n",
    "p = np.load('Code/ABC_posteriors/mixed_s_euclidean_posterior.npy', allow_pickle = True)\n",
    "ABC_var = [row[1] for row in p]\n",
    "ax.hist(ABC_var, density=True, histtype='stepfilled', bins = 40)\n",
    "ax.show()"
   ]
  },
  {
   "cell_type": "code",
   "execution_count": 185,
   "metadata": {},
   "outputs": [
    {
     "data": {
      "text/plain": [
       "0.9696157760375435"
      ]
     },
     "execution_count": 185,
     "metadata": {},
     "output_type": "execute_result"
    }
   ],
   "source": [
    "np.var(data)"
   ]
  },
  {
   "cell_type": "code",
   "execution_count": null,
   "metadata": {},
   "outputs": [],
   "source": []
  }
 ],
 "metadata": {
  "kernelspec": {
   "display_name": "Python 3",
   "language": "python",
   "name": "python3"
  },
  "language_info": {
   "codemirror_mode": {
    "name": "ipython",
    "version": 3
   },
   "file_extension": ".py",
   "mimetype": "text/x-python",
   "name": "python",
   "nbconvert_exporter": "python",
   "pygments_lexer": "ipython3",
   "version": "3.6.9"
  }
 },
 "nbformat": 4,
 "nbformat_minor": 4
}
